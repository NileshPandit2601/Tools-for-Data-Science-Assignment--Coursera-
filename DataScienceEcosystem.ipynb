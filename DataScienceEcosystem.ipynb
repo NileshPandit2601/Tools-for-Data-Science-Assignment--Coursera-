{
  "nbformat": 4,
  "nbformat_minor": 0,
  "metadata": {
    "colab": {
      "provenance": []
    },
    "kernelspec": {
      "name": "python3",
      "display_name": "Python 3"
    },
    "language_info": {
      "name": "python"
    }
  },
  "cells": [
    {
      "cell_type": "markdown",
      "source": [
        "#Data Science Tools and Ecosystem\n",
        "In this notebook, Data Science Tools and Ecosystem are summarized."
      ],
      "metadata": {
        "id": "2edvezZz4Per"
      }
    },
    {
      "cell_type": "markdown",
      "source": [
        "**Objectives:**\n",
        "\n",
        "\n",
        "   *   List popular languages for data science\n",
        "   *   List commonly used libraries for data science\n",
        "   *   Few examples evaluating arithmetic expression in Python\n",
        "\n"
      ],
      "metadata": {
        "id": "ernFrqkLNSNU"
      }
    },
    {
      "cell_type": "markdown",
      "source": [
        "Some of the popular languages that Data Scientists use are:\n",
        "    \n",
        "    1. Python\n",
        "    2. R\n",
        "    3. SQL\n",
        "    4. Julia\n",
        "    5. Scala\n"
      ],
      "metadata": {
        "id": "mD2UoW0qHVej"
      }
    },
    {
      "cell_type": "markdown",
      "source": [
        "Some of the commonly used libraries used by Data Scientists include:\n",
        "\n",
        "\n",
        "    1. NumPy\n",
        "    2. Pandas\n",
        "    3. Matplotlib\n",
        "    4. Seaborn\n",
        "    5. Keras"
      ],
      "metadata": {
        "id": "bzu6HyA6Isse"
      }
    },
    {
      "cell_type": "markdown",
      "source": [
        "|Data Science Tools|\n",
        "|------------------|\n",
        "|Data Management|\n",
        "|Data Visualization|\n",
        "|Model Building|\n",
        "|Model Deployment|"
      ],
      "metadata": {
        "id": "7eb0jr8AJztb"
      }
    },
    {
      "cell_type": "markdown",
      "source": [
        "###Below are a few examples of evaluating arithmetic expressions in Python"
      ],
      "metadata": {
        "id": "N809ByL_K7AP"
      }
    },
    {
      "cell_type": "code",
      "source": [
        "#This a simple arithmetic expression to mutiply then add integers\n",
        "(3*4)+5"
      ],
      "metadata": {
        "colab": {
          "base_uri": "https://localhost:8080/"
        },
        "id": "wCioZ4mZLURS",
        "outputId": "fb3cd019-cfcb-4309-fcc8-32e8c3d1d043"
      },
      "execution_count": 1,
      "outputs": [
        {
          "output_type": "execute_result",
          "data": {
            "text/plain": [
              "17"
            ]
          },
          "metadata": {},
          "execution_count": 1
        }
      ]
    },
    {
      "cell_type": "code",
      "source": [
        "#This will convert 200 minutes to hours by diving by 60\n",
        "\n",
        "print(f\"{(200/60):.2f}\")"
      ],
      "metadata": {
        "colab": {
          "base_uri": "https://localhost:8080/"
        },
        "id": "EBFze9C9L6hM",
        "outputId": "80e8cf86-960c-49a4-efae-ef3932839f86"
      },
      "execution_count": 4,
      "outputs": [
        {
          "output_type": "stream",
          "name": "stdout",
          "text": [
            "3.33\n"
          ]
        }
      ]
    },
    {
      "cell_type": "markdown",
      "source": [
        "##Author\n",
        "Nilesh Pandit"
      ],
      "metadata": {
        "id": "bDtdY8koOQZN"
      }
    }
  ]
}